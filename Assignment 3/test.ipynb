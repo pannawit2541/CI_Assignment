{
 "metadata": {
  "language_info": {
   "codemirror_mode": {
    "name": "ipython",
    "version": 3
   },
   "file_extension": ".py",
   "mimetype": "text/x-python",
   "name": "python",
   "nbconvert_exporter": "python",
   "pygments_lexer": "ipython3",
   "version": "3.8.3-final"
  },
  "orig_nbformat": 2,
  "kernelspec": {
   "name": "python3",
   "display_name": "Python 3"
  }
 },
 "nbformat": 4,
 "nbformat_minor": 2,
 "cells": [
  {
   "cell_type": "code",
   "execution_count": 122,
   "metadata": {},
   "outputs": [],
   "source": [
    "import numpy as np\n",
    "import random\n",
    "import pandas as pd\n",
    "import math\n",
    "from random import randint"
   ]
  },
  {
   "cell_type": "code",
   "execution_count": 123,
   "metadata": {},
   "outputs": [],
   "source": [
    "def _readfile(file):\n",
    "\n",
    "    # ----- read data -----\n",
    "    df = pd.read_csv(file)\n",
    "    df = df.fillna(method = 'ffill')\n",
    "\n",
    "    # ----- Create Features -----\n",
    "    X = df.drop(['id','class'], axis=1).copy(deep=False)\n",
    "    X = (X-X.min())/(X.max()-X.min())\n",
    "\n",
    "    # ----- Create Desired outputs -----\n",
    "    Y = df[['class']].copy(deep=False)\n",
    "\n",
    "    Input = X.to_numpy()\n",
    "    Output = Y.to_numpy()\n",
    "\n",
    "    return Input,Output\n",
    "\n",
    "Input,Output = _readfile('data/wdbc.csv')"
   ]
  },
  {
   "cell_type": "code",
   "execution_count": 124,
   "metadata": {},
   "outputs": [],
   "source": [
    "def cross_validations_split(shape,folds):\n",
    "    fold_size = int(shape * folds/100)\n",
    "    k = 0\n",
    "    index = []\n",
    "    for i in range(1,folds+1):\n",
    "        if i < folds:\n",
    "            index.append([k,i*fold_size])\n",
    "        else:\n",
    "            index.append([k,shape])\n",
    "        k = i*fold_size\n",
    "    return index"
   ]
  },
  {
   "cell_type": "code",
   "execution_count": 125,
   "metadata": {},
   "outputs": [],
   "source": [
    "class GA(object):\n",
    "    def __init__(self, hiddenSize, inputSize, outputSize):\n",
    "\n",
    "        # initiate layers\n",
    "        self.inputSize = inputSize\n",
    "        self.outputSize = outputSize\n",
    "        self.hiddenSize = hiddenSize\n",
    "\n",
    "        layers = [self.inputSize] + self.hiddenSize + [self.outputSize]\n",
    "\n",
    "        # initiate genes\n",
    "        genes = []\n",
    "        for i in range(len(layers)-1):\n",
    "            g = np.random.uniform(-2,2,(layers[i], layers[i+1]))\n",
    "            genes.append(g)\n",
    "        self.genes = genes\n",
    "        \n",
    "\n",
    "    def feedForward(self, X):\n",
    "        Output_node = X\n",
    "        for i, g in enumerate(self.genes):\n",
    "        \n",
    "            v = np.dot(Output_node, g)\n",
    "            Output_node = self.sigmoid(v)\n",
    "\n",
    "        return Output_node\n",
    "\n",
    "    def sigmoid(self, s, deriv=False):\n",
    "        if (deriv == True):\n",
    "            return s * (1-s)\n",
    "        return 1/(1 + np.exp(-s))\n",
    "\n",
    "    def object_funct(self, X, Y):\n",
    "\n",
    "        seed = randint(1, 100*100)\n",
    "\n",
    "        np.random.seed(seed)\n",
    "        np.random.shuffle(X)\n",
    "\n",
    "        np.random.seed(seed)\n",
    "        np.random.shuffle(Y)\n",
    "\n",
    "        sum_err = 0\n",
    "        for j, input in enumerate(X):\n",
    "            target = Y[j]\n",
    "            output = self.feedForward(input)\n",
    "\n",
    "            sum_err += self._mse(target, output)\n",
    "\n",
    "        self.fx = 1/math.log(1+sum_err/len(X))\n",
    "        \n",
    "        return self.fx\n",
    "\n",
    "    def _mse(self, target, output):\n",
    "        return np.average(abs(target - output)**2)\n"
   ]
  },
  {
   "cell_type": "code",
   "execution_count": 126,
   "metadata": {},
   "outputs": [],
   "source": [
    "class selection(object):\n",
    "    def __init__(self, chromosomes):\n",
    "\n",
    "        # initiate fitness\n",
    "        self.chromosomes = chromosomes\n",
    "        self.Max = 1.2\n",
    "        self.Min = 2-self.Max\n",
    "\n",
    "        self.P = [0]*len(chromosomes)\n",
    "    \n",
    "    # initiate probability\n",
    "    def prob(self):\n",
    "\n",
    "        P = []\n",
    "        N = len(chromosomes)\n",
    "        Max = self.Max\n",
    "        Min = self.Min\n",
    "\n",
    "        for r,_ in enumerate(self.chromosomes):\n",
    "            p = (Min + (Max - Min) * ((r-1)/(N-1)))/N\n",
    "            P.append(p)\n",
    "        self.P = P\n",
    "        return self.P\n",
    "\n",
    "\n",
    "\n",
    "# Stochastic universal sampling\n",
    "#def sus(fx):\n"
   ]
  },
  {
   "cell_type": "code",
   "execution_count": 127,
   "metadata": {},
   "outputs": [],
   "source": [
    "chromosomes = []\n",
    "no_generations = 100\n",
    "no_chromosomes = 20"
   ]
  },
  {
   "cell_type": "code",
   "execution_count": 128,
   "metadata": {},
   "outputs": [],
   "source": [
    "# initiate chromosomes P(0)\n",
    "for i in range(no_chromosomes):\n",
    "    c = GA([20,10],Input.shape[1],Output.shape[1])\n",
    "    chromosomes.append(c)\n",
    "\n",
    "# initiate best objective function\n",
    "best_chromosome = [float('-inf'),chromosomes[0]]\n",
    "\n",
    "x_train, y_train = Input,Output"
   ]
  },
  {
   "cell_type": "code",
   "execution_count": 130,
   "metadata": {
    "tags": []
   },
   "outputs": [
    {
     "output_type": "stream",
     "name": "stdout",
     "text": [
      "----------------------------- P[ 0 ] -----------------------------\n",
      "[0.03894736842105263, 0.04, 0.04105263157894737, 0.04210526315789474, 0.0431578947368421, 0.04421052631578947, 0.045263157894736845, 0.04631578947368421, 0.04736842105263158, 0.04842105263157895, 0.049473684210526316, 0.05052631578947368, 0.05157894736842106, 0.05263157894736842, 0.05368421052631579, 0.05473684210526315, 0.05578947368421052, 0.056842105263157895, 0.05789473684210526, 0.05894736842105262]\n"
     ]
    }
   ],
   "source": [
    "for t in range(no_generations):\n",
    "\n",
    "    print(\"----------------------------- P[\",t,\"] -----------------------------\")\n",
    "\n",
    "    # evaluation objective function\n",
    "    ranks = []\n",
    "    for c in chromosomes:\n",
    "\n",
    "        fx = c.object_funct(x_train, y_train)\n",
    "        ranks.append([fx,c])\n",
    "\n",
    "        if fx > best_chromosome[0]:\n",
    "            print(\"--- update best fitenss \",round(fx,6),\" ---\")\n",
    "            best_chromosome[0] = fx\n",
    "            best_chromosome[1] = c\n",
    "\n",
    "    ranks = sorted(ranks, key = lambda x: (x[0]))\n",
    "    print(selection(ranks).prob())\n",
    "    break\n"
   ]
  },
  {
   "cell_type": "code",
   "execution_count": null,
   "metadata": {},
   "outputs": [],
   "source": []
  }
 ]
}